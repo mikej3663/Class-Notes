{
 "cells": [
  {
   "cell_type": "markdown",
   "id": "5961187a-179f-4690-a89e-a0fd9178229c",
   "metadata": {
    "slideshow": {
     "slide_type": "subslide"
    }
   },
   "source": [
    "# The merge function\n"
   ]
  },
  {
   "cell_type": "code",
   "execution_count": 1,
   "id": "3c5a0a2b-83e2-40e8-8ee5-3d08729e0a71",
   "metadata": {
    "slideshow": {
     "slide_type": "subslide"
    }
   },
   "outputs": [
    {
     "name": "stdout",
     "output_type": "stream",
     "text": [
      "        firm varA\n",
      "0  Accenture   A1\n",
      "1       Citi   A2\n",
      "2         GS   A3\n",
      "    firm varB varc\n",
      "0     GS   B1   C1\n",
      "1  Chase   B2   C2\n",
      "2     WF   B3   C3\n"
     ]
    }
   ],
   "source": [
    "import pandas as pd\n",
    "\n",
    "left_df = pd.DataFrame({\n",
    "                    'firm': ['Accenture','Citi','GS'],\n",
    "                    'varA': ['A1', 'A2', 'A3']})\n",
    "\n",
    "right_df = pd.DataFrame({\n",
    "                    'firm': ['GS','Chase','WF'],\n",
    "                    'varB': ['B1', 'B2', 'B3'],\n",
    "                    'varc': ['C1', 'C2', 'C3']})    \n",
    "\n",
    "print(left_df)\n",
    "print(right_df)"
   ]
  },
  {
   "cell_type": "markdown",
   "id": "4c306a2a-2f72-4e45-8fa5-5f8e3d8223ac",
   "metadata": {
    "slideshow": {
     "slide_type": "subslide"
    }
   },
   "source": [
    "Let use shift+tab to talk about the parameters.\n",
    "\n",
    "Put your cursor in the merge function below and hit shift tab"
   ]
  },
  {
   "cell_type": "markdown",
   "id": "633ee5bd-aacb-44d0-bef2-49201514c87d",
   "metadata": {},
   "source": [
    "## Merge Important Stuff\n",
    "\n",
    "- right\n",
    "- how\n",
    "- on and its varients - what variable or variables do we need to use to match\n",
    "    - firm name, or ticker, etc\n",
    "    - can be multiple\n",
    "- indicator  --> useful! always use\n",
    "- validate   --> useful! always use"
   ]
  },
  {
   "cell_type": "code",
   "execution_count": 2,
   "id": "35952858-57ae-49c5-b4f8-b3e45bca03e7",
   "metadata": {},
   "outputs": [
    {
     "data": {
      "text/html": [
       "<div>\n",
       "<style scoped>\n",
       "    .dataframe tbody tr th:only-of-type {\n",
       "        vertical-align: middle;\n",
       "    }\n",
       "\n",
       "    .dataframe tbody tr th {\n",
       "        vertical-align: top;\n",
       "    }\n",
       "\n",
       "    .dataframe thead th {\n",
       "        text-align: right;\n",
       "    }\n",
       "</style>\n",
       "<table border=\"1\" class=\"dataframe\">\n",
       "  <thead>\n",
       "    <tr style=\"text-align: right;\">\n",
       "      <th></th>\n",
       "      <th>firm</th>\n",
       "      <th>varA</th>\n",
       "      <th>varB</th>\n",
       "      <th>varc</th>\n",
       "    </tr>\n",
       "  </thead>\n",
       "  <tbody>\n",
       "    <tr>\n",
       "      <th>0</th>\n",
       "      <td>Accenture</td>\n",
       "      <td>A1</td>\n",
       "      <td>NaN</td>\n",
       "      <td>NaN</td>\n",
       "    </tr>\n",
       "    <tr>\n",
       "      <th>1</th>\n",
       "      <td>Chase</td>\n",
       "      <td>NaN</td>\n",
       "      <td>B2</td>\n",
       "      <td>C2</td>\n",
       "    </tr>\n",
       "    <tr>\n",
       "      <th>2</th>\n",
       "      <td>Citi</td>\n",
       "      <td>A2</td>\n",
       "      <td>NaN</td>\n",
       "      <td>NaN</td>\n",
       "    </tr>\n",
       "    <tr>\n",
       "      <th>3</th>\n",
       "      <td>GS</td>\n",
       "      <td>A3</td>\n",
       "      <td>B1</td>\n",
       "      <td>C1</td>\n",
       "    </tr>\n",
       "    <tr>\n",
       "      <th>4</th>\n",
       "      <td>WF</td>\n",
       "      <td>NaN</td>\n",
       "      <td>B3</td>\n",
       "      <td>C3</td>\n",
       "    </tr>\n",
       "  </tbody>\n",
       "</table>\n",
       "</div>"
      ],
      "text/plain": [
       "        firm varA varB varc\n",
       "0  Accenture   A1  NaN  NaN\n",
       "1      Chase  NaN   B2   C2\n",
       "2       Citi   A2  NaN  NaN\n",
       "3         GS   A3   B1   C1\n",
       "4         WF  NaN   B3   C3"
      ]
     },
     "execution_count": 2,
     "metadata": {},
     "output_type": "execute_result"
    }
   ],
   "source": [
    "left_df.merge(right_df,\"outer\")"
   ]
  },
  {
   "cell_type": "code",
   "execution_count": 3,
   "id": "fa7ddfd5-8cfc-4b37-8494-91f33c2c0d25",
   "metadata": {},
   "outputs": [
    {
     "data": {
      "text/html": [
       "<div>\n",
       "<style scoped>\n",
       "    .dataframe tbody tr th:only-of-type {\n",
       "        vertical-align: middle;\n",
       "    }\n",
       "\n",
       "    .dataframe tbody tr th {\n",
       "        vertical-align: top;\n",
       "    }\n",
       "\n",
       "    .dataframe thead th {\n",
       "        text-align: right;\n",
       "    }\n",
       "</style>\n",
       "<table border=\"1\" class=\"dataframe\">\n",
       "  <thead>\n",
       "    <tr style=\"text-align: right;\">\n",
       "      <th></th>\n",
       "      <th>firm</th>\n",
       "      <th>varA</th>\n",
       "      <th>varB</th>\n",
       "      <th>varc</th>\n",
       "    </tr>\n",
       "  </thead>\n",
       "  <tbody>\n",
       "    <tr>\n",
       "      <th>0</th>\n",
       "      <td>GS</td>\n",
       "      <td>A3</td>\n",
       "      <td>B1</td>\n",
       "      <td>C1</td>\n",
       "    </tr>\n",
       "  </tbody>\n",
       "</table>\n",
       "</div>"
      ],
      "text/plain": [
       "  firm varA varB varc\n",
       "0   GS   A3   B1   C1"
      ]
     },
     "execution_count": 3,
     "metadata": {},
     "output_type": "execute_result"
    }
   ],
   "source": [
    "left_df.merge(right_df,\"inner\")"
   ]
  },
  {
   "cell_type": "code",
   "execution_count": 4,
   "id": "843caf4e-6cba-479b-9036-bd857693ddd0",
   "metadata": {},
   "outputs": [
    {
     "data": {
      "text/html": [
       "<div>\n",
       "<style scoped>\n",
       "    .dataframe tbody tr th:only-of-type {\n",
       "        vertical-align: middle;\n",
       "    }\n",
       "\n",
       "    .dataframe tbody tr th {\n",
       "        vertical-align: top;\n",
       "    }\n",
       "\n",
       "    .dataframe thead th {\n",
       "        text-align: right;\n",
       "    }\n",
       "</style>\n",
       "<table border=\"1\" class=\"dataframe\">\n",
       "  <thead>\n",
       "    <tr style=\"text-align: right;\">\n",
       "      <th></th>\n",
       "      <th>firm</th>\n",
       "      <th>varA</th>\n",
       "      <th>varB</th>\n",
       "      <th>varc</th>\n",
       "    </tr>\n",
       "  </thead>\n",
       "  <tbody>\n",
       "    <tr>\n",
       "      <th>0</th>\n",
       "      <td>Accenture</td>\n",
       "      <td>A1</td>\n",
       "      <td>NaN</td>\n",
       "      <td>NaN</td>\n",
       "    </tr>\n",
       "    <tr>\n",
       "      <th>1</th>\n",
       "      <td>Citi</td>\n",
       "      <td>A2</td>\n",
       "      <td>NaN</td>\n",
       "      <td>NaN</td>\n",
       "    </tr>\n",
       "    <tr>\n",
       "      <th>2</th>\n",
       "      <td>GS</td>\n",
       "      <td>A3</td>\n",
       "      <td>B1</td>\n",
       "      <td>C1</td>\n",
       "    </tr>\n",
       "  </tbody>\n",
       "</table>\n",
       "</div>"
      ],
      "text/plain": [
       "        firm varA varB varc\n",
       "0  Accenture   A1  NaN  NaN\n",
       "1       Citi   A2  NaN  NaN\n",
       "2         GS   A3   B1   C1"
      ]
     },
     "execution_count": 4,
     "metadata": {},
     "output_type": "execute_result"
    }
   ],
   "source": [
    "left_df.merge(right_df,\"left\")"
   ]
  },
  {
   "cell_type": "code",
   "execution_count": 5,
   "id": "63f91f36-a026-4e9c-83f7-6d21a7af2805",
   "metadata": {},
   "outputs": [
    {
     "data": {
      "text/html": [
       "<div>\n",
       "<style scoped>\n",
       "    .dataframe tbody tr th:only-of-type {\n",
       "        vertical-align: middle;\n",
       "    }\n",
       "\n",
       "    .dataframe tbody tr th {\n",
       "        vertical-align: top;\n",
       "    }\n",
       "\n",
       "    .dataframe thead th {\n",
       "        text-align: right;\n",
       "    }\n",
       "</style>\n",
       "<table border=\"1\" class=\"dataframe\">\n",
       "  <thead>\n",
       "    <tr style=\"text-align: right;\">\n",
       "      <th></th>\n",
       "      <th>firm</th>\n",
       "      <th>varA</th>\n",
       "      <th>varB</th>\n",
       "      <th>varc</th>\n",
       "    </tr>\n",
       "  </thead>\n",
       "  <tbody>\n",
       "    <tr>\n",
       "      <th>0</th>\n",
       "      <td>GS</td>\n",
       "      <td>A3</td>\n",
       "      <td>B1</td>\n",
       "      <td>C1</td>\n",
       "    </tr>\n",
       "    <tr>\n",
       "      <th>1</th>\n",
       "      <td>Chase</td>\n",
       "      <td>NaN</td>\n",
       "      <td>B2</td>\n",
       "      <td>C2</td>\n",
       "    </tr>\n",
       "    <tr>\n",
       "      <th>2</th>\n",
       "      <td>WF</td>\n",
       "      <td>NaN</td>\n",
       "      <td>B3</td>\n",
       "      <td>C3</td>\n",
       "    </tr>\n",
       "  </tbody>\n",
       "</table>\n",
       "</div>"
      ],
      "text/plain": [
       "    firm varA varB varc\n",
       "0     GS   A3   B1   C1\n",
       "1  Chase  NaN   B2   C2\n",
       "2     WF  NaN   B3   C3"
      ]
     },
     "execution_count": 5,
     "metadata": {},
     "output_type": "execute_result"
    }
   ],
   "source": [
    "left_df.merge(right_df,\"right\")"
   ]
  },
  {
   "cell_type": "markdown",
   "id": "10271af4-5450-4f79-bde3-f85893adef92",
   "metadata": {},
   "source": [
    "The main parameters:\n",
    "- right\n",
    "- how\n",
    "- on and its variants \n",
    "- indicator \n",
    "- validate "
   ]
  },
  {
   "cell_type": "markdown",
   "id": "098432e6-4963-42fd-9a84-635b99bdea8f",
   "metadata": {},
   "source": [
    "## Part 1\n",
    "\n",
    "_Prof: Leave the \"how\" slide on the board_\n",
    "\n",
    "Some work with the mechanics:\n",
    "\n",
    "- Q0 Merge both datasets above with each possible value of `how`. How many observations result from each of the four merges?"
   ]
  },
  {
   "cell_type": "markdown",
   "id": "941f31ab-d4d9-49e5-9e29-645639eaef34",
   "metadata": {},
   "source": [
    "Did above"
   ]
  },
  {
   "cell_type": "markdown",
   "id": "722ac99d-29fb-4d68-a73f-a5989da691f1",
   "metadata": {},
   "source": [
    "- Q1 Compare `left_df.merge(right_df)` and `pd.merge(left_df, right_df)`. Are they the same or different? What do we learn from this?"
   ]
  },
  {
   "cell_type": "code",
   "execution_count": 6,
   "id": "117e1595-3e2c-4179-a6b7-85b239631587",
   "metadata": {},
   "outputs": [
    {
     "data": {
      "text/html": [
       "<div>\n",
       "<style scoped>\n",
       "    .dataframe tbody tr th:only-of-type {\n",
       "        vertical-align: middle;\n",
       "    }\n",
       "\n",
       "    .dataframe tbody tr th {\n",
       "        vertical-align: top;\n",
       "    }\n",
       "\n",
       "    .dataframe thead th {\n",
       "        text-align: right;\n",
       "    }\n",
       "</style>\n",
       "<table border=\"1\" class=\"dataframe\">\n",
       "  <thead>\n",
       "    <tr style=\"text-align: right;\">\n",
       "      <th></th>\n",
       "      <th>firm</th>\n",
       "      <th>varA</th>\n",
       "      <th>varB</th>\n",
       "      <th>varc</th>\n",
       "    </tr>\n",
       "  </thead>\n",
       "  <tbody>\n",
       "    <tr>\n",
       "      <th>0</th>\n",
       "      <td>GS</td>\n",
       "      <td>A3</td>\n",
       "      <td>B1</td>\n",
       "      <td>C1</td>\n",
       "    </tr>\n",
       "  </tbody>\n",
       "</table>\n",
       "</div>"
      ],
      "text/plain": [
       "  firm varA varB varc\n",
       "0   GS   A3   B1   C1"
      ]
     },
     "execution_count": 6,
     "metadata": {},
     "output_type": "execute_result"
    }
   ],
   "source": [
    "left_df.merge(right_df)"
   ]
  },
  {
   "cell_type": "code",
   "execution_count": 7,
   "id": "efed0a6a-8852-4aba-b991-06bdf246a8cd",
   "metadata": {},
   "outputs": [
    {
     "data": {
      "text/html": [
       "<div>\n",
       "<style scoped>\n",
       "    .dataframe tbody tr th:only-of-type {\n",
       "        vertical-align: middle;\n",
       "    }\n",
       "\n",
       "    .dataframe tbody tr th {\n",
       "        vertical-align: top;\n",
       "    }\n",
       "\n",
       "    .dataframe thead th {\n",
       "        text-align: right;\n",
       "    }\n",
       "</style>\n",
       "<table border=\"1\" class=\"dataframe\">\n",
       "  <thead>\n",
       "    <tr style=\"text-align: right;\">\n",
       "      <th></th>\n",
       "      <th>firm</th>\n",
       "      <th>varA</th>\n",
       "      <th>varB</th>\n",
       "      <th>varc</th>\n",
       "    </tr>\n",
       "  </thead>\n",
       "  <tbody>\n",
       "    <tr>\n",
       "      <th>0</th>\n",
       "      <td>GS</td>\n",
       "      <td>A3</td>\n",
       "      <td>B1</td>\n",
       "      <td>C1</td>\n",
       "    </tr>\n",
       "  </tbody>\n",
       "</table>\n",
       "</div>"
      ],
      "text/plain": [
       "  firm varA varB varc\n",
       "0   GS   A3   B1   C1"
      ]
     },
     "execution_count": 7,
     "metadata": {},
     "output_type": "execute_result"
    }
   ],
   "source": [
    "pd.merge(left_df, right_df)"
   ]
  },
  {
   "cell_type": "code",
   "execution_count": 8,
   "id": "0d23a588-320b-4540-81bd-ca6b518a53e1",
   "metadata": {},
   "outputs": [],
   "source": [
    "ChosenOne = pd.DataFrame({\n",
    "                    'tic': ['GS','GS','GS'],\n",
    "                    'varB': ['B1', 'B2', 'B3'],\n",
    "                    'varc': ['C1', 'C2', 'C3']})    \n",
    "\n",
    "CurryForThree = pd.DataFrame({\n",
    "                    'var1': ['GS','GS','GS'],\n",
    "                    'varD': ['D1', 'D2', 'D3'],\n",
    "                    'varE': ['E1', 'E2', 'E3']}).set_index('var1')"
   ]
  },
  {
   "cell_type": "markdown",
   "id": "fa4642d4-4253-42ac-9660-52a918bf4ad2",
   "metadata": {},
   "source": [
    "- Q2 Successfully do an outer merge between `left_df` and `ChosenOne`. Then try to do an outer merge between `left_df` and `CurryForThree` (both are defined below)"
   ]
  },
  {
   "cell_type": "code",
   "execution_count": 9,
   "id": "dcdc80df-b05e-4124-9c79-8e0c514d0d91",
   "metadata": {},
   "outputs": [
    {
     "data": {
      "text/html": [
       "<div>\n",
       "<style scoped>\n",
       "    .dataframe tbody tr th:only-of-type {\n",
       "        vertical-align: middle;\n",
       "    }\n",
       "\n",
       "    .dataframe tbody tr th {\n",
       "        vertical-align: top;\n",
       "    }\n",
       "\n",
       "    .dataframe thead th {\n",
       "        text-align: right;\n",
       "    }\n",
       "</style>\n",
       "<table border=\"1\" class=\"dataframe\">\n",
       "  <thead>\n",
       "    <tr style=\"text-align: right;\">\n",
       "      <th></th>\n",
       "      <th>firm</th>\n",
       "      <th>varA</th>\n",
       "      <th>tic</th>\n",
       "      <th>varB</th>\n",
       "      <th>varc</th>\n",
       "    </tr>\n",
       "  </thead>\n",
       "  <tbody>\n",
       "    <tr>\n",
       "      <th>0</th>\n",
       "      <td>Accenture</td>\n",
       "      <td>A1</td>\n",
       "      <td>NaN</td>\n",
       "      <td>NaN</td>\n",
       "      <td>NaN</td>\n",
       "    </tr>\n",
       "    <tr>\n",
       "      <th>1</th>\n",
       "      <td>Citi</td>\n",
       "      <td>A2</td>\n",
       "      <td>NaN</td>\n",
       "      <td>NaN</td>\n",
       "      <td>NaN</td>\n",
       "    </tr>\n",
       "    <tr>\n",
       "      <th>2</th>\n",
       "      <td>GS</td>\n",
       "      <td>A3</td>\n",
       "      <td>GS</td>\n",
       "      <td>B1</td>\n",
       "      <td>C1</td>\n",
       "    </tr>\n",
       "    <tr>\n",
       "      <th>3</th>\n",
       "      <td>GS</td>\n",
       "      <td>A3</td>\n",
       "      <td>GS</td>\n",
       "      <td>B2</td>\n",
       "      <td>C2</td>\n",
       "    </tr>\n",
       "    <tr>\n",
       "      <th>4</th>\n",
       "      <td>GS</td>\n",
       "      <td>A3</td>\n",
       "      <td>GS</td>\n",
       "      <td>B3</td>\n",
       "      <td>C3</td>\n",
       "    </tr>\n",
       "  </tbody>\n",
       "</table>\n",
       "</div>"
      ],
      "text/plain": [
       "        firm varA  tic varB varc\n",
       "0  Accenture   A1  NaN  NaN  NaN\n",
       "1       Citi   A2  NaN  NaN  NaN\n",
       "2         GS   A3   GS   B1   C1\n",
       "3         GS   A3   GS   B2   C2\n",
       "4         GS   A3   GS   B3   C3"
      ]
     },
     "execution_count": 9,
     "metadata": {},
     "output_type": "execute_result"
    }
   ],
   "source": [
    "left_df.merge(ChosenOne, \n",
    "              left_on = 'firm',\n",
    "              right_on = 'tic',\n",
    "              how = 'outer')\n"
   ]
  },
  {
   "cell_type": "code",
   "execution_count": 10,
   "id": "743811c5-67e9-498d-a9b0-69208e689344",
   "metadata": {},
   "outputs": [
    {
     "data": {
      "text/html": [
       "<div>\n",
       "<style scoped>\n",
       "    .dataframe tbody tr th:only-of-type {\n",
       "        vertical-align: middle;\n",
       "    }\n",
       "\n",
       "    .dataframe tbody tr th {\n",
       "        vertical-align: top;\n",
       "    }\n",
       "\n",
       "    .dataframe thead th {\n",
       "        text-align: right;\n",
       "    }\n",
       "</style>\n",
       "<table border=\"1\" class=\"dataframe\">\n",
       "  <thead>\n",
       "    <tr style=\"text-align: right;\">\n",
       "      <th></th>\n",
       "      <th>firm</th>\n",
       "      <th>varA</th>\n",
       "      <th>varB</th>\n",
       "      <th>varc</th>\n",
       "    </tr>\n",
       "  </thead>\n",
       "  <tbody>\n",
       "    <tr>\n",
       "      <th>0</th>\n",
       "      <td>Accenture</td>\n",
       "      <td>A1</td>\n",
       "      <td>NaN</td>\n",
       "      <td>NaN</td>\n",
       "    </tr>\n",
       "    <tr>\n",
       "      <th>1</th>\n",
       "      <td>Citi</td>\n",
       "      <td>A2</td>\n",
       "      <td>NaN</td>\n",
       "      <td>NaN</td>\n",
       "    </tr>\n",
       "    <tr>\n",
       "      <th>2</th>\n",
       "      <td>GS</td>\n",
       "      <td>A3</td>\n",
       "      <td>B1</td>\n",
       "      <td>C1</td>\n",
       "    </tr>\n",
       "    <tr>\n",
       "      <th>3</th>\n",
       "      <td>GS</td>\n",
       "      <td>A3</td>\n",
       "      <td>B2</td>\n",
       "      <td>C2</td>\n",
       "    </tr>\n",
       "    <tr>\n",
       "      <th>4</th>\n",
       "      <td>GS</td>\n",
       "      <td>A3</td>\n",
       "      <td>B3</td>\n",
       "      <td>C3</td>\n",
       "    </tr>\n",
       "  </tbody>\n",
       "</table>\n",
       "</div>"
      ],
      "text/plain": [
       "        firm varA varB varc\n",
       "0  Accenture   A1  NaN  NaN\n",
       "1       Citi   A2  NaN  NaN\n",
       "2         GS   A3   B1   C1\n",
       "3         GS   A3   B2   C2\n",
       "4         GS   A3   B3   C3"
      ]
     },
     "execution_count": 10,
     "metadata": {},
     "output_type": "execute_result"
    }
   ],
   "source": [
    "left_df.merge(ChosenOne.rename(columns = {'tic':'firm'}), \n",
    "              on = 'firm',\n",
    "              how = 'outer')"
   ]
  },
  {
   "cell_type": "code",
   "execution_count": 11,
   "id": "6fb1a0d1-44dd-47a4-ae48-0792cf918787",
   "metadata": {},
   "outputs": [
    {
     "data": {
      "text/html": [
       "<div>\n",
       "<style scoped>\n",
       "    .dataframe tbody tr th:only-of-type {\n",
       "        vertical-align: middle;\n",
       "    }\n",
       "\n",
       "    .dataframe tbody tr th {\n",
       "        vertical-align: top;\n",
       "    }\n",
       "\n",
       "    .dataframe thead th {\n",
       "        text-align: right;\n",
       "    }\n",
       "</style>\n",
       "<table border=\"1\" class=\"dataframe\">\n",
       "  <thead>\n",
       "    <tr style=\"text-align: right;\">\n",
       "      <th></th>\n",
       "      <th>firm</th>\n",
       "      <th>varA</th>\n",
       "      <th>varD</th>\n",
       "      <th>varE</th>\n",
       "    </tr>\n",
       "  </thead>\n",
       "  <tbody>\n",
       "    <tr>\n",
       "      <th>0</th>\n",
       "      <td>Accenture</td>\n",
       "      <td>A1</td>\n",
       "      <td>NaN</td>\n",
       "      <td>NaN</td>\n",
       "    </tr>\n",
       "    <tr>\n",
       "      <th>1</th>\n",
       "      <td>Citi</td>\n",
       "      <td>A2</td>\n",
       "      <td>NaN</td>\n",
       "      <td>NaN</td>\n",
       "    </tr>\n",
       "    <tr>\n",
       "      <th>2</th>\n",
       "      <td>GS</td>\n",
       "      <td>A3</td>\n",
       "      <td>D1</td>\n",
       "      <td>E1</td>\n",
       "    </tr>\n",
       "    <tr>\n",
       "      <th>3</th>\n",
       "      <td>GS</td>\n",
       "      <td>A3</td>\n",
       "      <td>D2</td>\n",
       "      <td>E2</td>\n",
       "    </tr>\n",
       "    <tr>\n",
       "      <th>4</th>\n",
       "      <td>GS</td>\n",
       "      <td>A3</td>\n",
       "      <td>D3</td>\n",
       "      <td>E3</td>\n",
       "    </tr>\n",
       "  </tbody>\n",
       "</table>\n",
       "</div>"
      ],
      "text/plain": [
       "        firm varA varD varE\n",
       "0  Accenture   A1  NaN  NaN\n",
       "1       Citi   A2  NaN  NaN\n",
       "2         GS   A3   D1   E1\n",
       "3         GS   A3   D2   E2\n",
       "4         GS   A3   D3   E3"
      ]
     },
     "execution_count": 11,
     "metadata": {},
     "output_type": "execute_result"
    }
   ],
   "source": [
    "left_df.merge(CurryForThree, \n",
    "              left_on = 'firm',\n",
    "              right_on = 'var1',\n",
    "              how = 'outer')"
   ]
  },
  {
   "cell_type": "markdown",
   "id": "5a708ec8-af8e-4f75-9dbf-bc8c1687e19d",
   "metadata": {},
   "source": [
    "- Q3 Do an outer merge with `left_df` and `right_df` and output the source of each observation by using the \"indicate\" option."
   ]
  },
  {
   "cell_type": "code",
   "execution_count": 12,
   "id": "42bb6b1c-d568-44b9-b6d0-9bf80b834fc2",
   "metadata": {},
   "outputs": [
    {
     "data": {
      "text/html": [
       "<div>\n",
       "<style scoped>\n",
       "    .dataframe tbody tr th:only-of-type {\n",
       "        vertical-align: middle;\n",
       "    }\n",
       "\n",
       "    .dataframe tbody tr th {\n",
       "        vertical-align: top;\n",
       "    }\n",
       "\n",
       "    .dataframe thead th {\n",
       "        text-align: right;\n",
       "    }\n",
       "</style>\n",
       "<table border=\"1\" class=\"dataframe\">\n",
       "  <thead>\n",
       "    <tr style=\"text-align: right;\">\n",
       "      <th></th>\n",
       "      <th>firm</th>\n",
       "      <th>varA</th>\n",
       "      <th>varB</th>\n",
       "      <th>varc</th>\n",
       "      <th>_merge</th>\n",
       "    </tr>\n",
       "  </thead>\n",
       "  <tbody>\n",
       "    <tr>\n",
       "      <th>0</th>\n",
       "      <td>Accenture</td>\n",
       "      <td>A1</td>\n",
       "      <td>NaN</td>\n",
       "      <td>NaN</td>\n",
       "      <td>left_only</td>\n",
       "    </tr>\n",
       "    <tr>\n",
       "      <th>1</th>\n",
       "      <td>Chase</td>\n",
       "      <td>NaN</td>\n",
       "      <td>B2</td>\n",
       "      <td>C2</td>\n",
       "      <td>right_only</td>\n",
       "    </tr>\n",
       "    <tr>\n",
       "      <th>2</th>\n",
       "      <td>Citi</td>\n",
       "      <td>A2</td>\n",
       "      <td>NaN</td>\n",
       "      <td>NaN</td>\n",
       "      <td>left_only</td>\n",
       "    </tr>\n",
       "    <tr>\n",
       "      <th>3</th>\n",
       "      <td>GS</td>\n",
       "      <td>A3</td>\n",
       "      <td>B1</td>\n",
       "      <td>C1</td>\n",
       "      <td>both</td>\n",
       "    </tr>\n",
       "    <tr>\n",
       "      <th>4</th>\n",
       "      <td>WF</td>\n",
       "      <td>NaN</td>\n",
       "      <td>B3</td>\n",
       "      <td>C3</td>\n",
       "      <td>right_only</td>\n",
       "    </tr>\n",
       "  </tbody>\n",
       "</table>\n",
       "</div>"
      ],
      "text/plain": [
       "        firm varA varB varc      _merge\n",
       "0  Accenture   A1  NaN  NaN   left_only\n",
       "1      Chase  NaN   B2   C2  right_only\n",
       "2       Citi   A2  NaN  NaN   left_only\n",
       "3         GS   A3   B1   C1        both\n",
       "4         WF  NaN   B3   C3  right_only"
      ]
     },
     "metadata": {},
     "output_type": "display_data"
    },
    {
     "name": "stdout",
     "output_type": "stream",
     "text": [
      "len before =  3 len after =  5\n"
     ]
    },
    {
     "data": {
      "text/plain": [
       "_merge\n",
       "left_only     2\n",
       "right_only    2\n",
       "both          1\n",
       "Name: count, dtype: int64"
      ]
     },
     "execution_count": 12,
     "metadata": {},
     "output_type": "execute_result"
    }
   ],
   "source": [
    "len_before = len(left_df)\n",
    "\n",
    "a_bad_name = left_df.merge(right_df, \n",
    "             how = 'outer',\n",
    "             indicator = True)\n",
    "\n",
    "display(a_bad_name)\n",
    "\n",
    "# after merges, count size of new frame, and tabulate sources\n",
    "\n",
    "print('len before = ', len_before, 'len after = ', len(a_bad_name))\n",
    "\n",
    "# if you think they should be equal\n",
    "\n",
    "#assert len(a_bad_name) == len(left_df)\n",
    "\n",
    "a_bad_name['_merge'].value_counts()"
   ]
  },
  {
   "cell_type": "markdown",
   "id": "901ce6a6-cb42-4170-96d7-cf54eb200ec9",
   "metadata": {},
   "source": [
    "- Q4 Repeat the outer merge we just did, but four times: try each possible value of \"validate\""
   ]
  },
  {
   "cell_type": "code",
   "execution_count": 13,
   "id": "824a1941-5a58-41bd-b218-efbaae80315d",
   "metadata": {},
   "outputs": [
    {
     "data": {
      "text/html": [
       "<div>\n",
       "<style scoped>\n",
       "    .dataframe tbody tr th:only-of-type {\n",
       "        vertical-align: middle;\n",
       "    }\n",
       "\n",
       "    .dataframe tbody tr th {\n",
       "        vertical-align: top;\n",
       "    }\n",
       "\n",
       "    .dataframe thead th {\n",
       "        text-align: right;\n",
       "    }\n",
       "</style>\n",
       "<table border=\"1\" class=\"dataframe\">\n",
       "  <thead>\n",
       "    <tr style=\"text-align: right;\">\n",
       "      <th></th>\n",
       "      <th>firm</th>\n",
       "      <th>varA</th>\n",
       "      <th>varB</th>\n",
       "      <th>varc</th>\n",
       "      <th>_merge</th>\n",
       "    </tr>\n",
       "  </thead>\n",
       "  <tbody>\n",
       "    <tr>\n",
       "      <th>0</th>\n",
       "      <td>Accenture</td>\n",
       "      <td>A1</td>\n",
       "      <td>NaN</td>\n",
       "      <td>NaN</td>\n",
       "      <td>left_only</td>\n",
       "    </tr>\n",
       "    <tr>\n",
       "      <th>1</th>\n",
       "      <td>Chase</td>\n",
       "      <td>NaN</td>\n",
       "      <td>B2</td>\n",
       "      <td>C2</td>\n",
       "      <td>right_only</td>\n",
       "    </tr>\n",
       "    <tr>\n",
       "      <th>2</th>\n",
       "      <td>Citi</td>\n",
       "      <td>A2</td>\n",
       "      <td>NaN</td>\n",
       "      <td>NaN</td>\n",
       "      <td>left_only</td>\n",
       "    </tr>\n",
       "    <tr>\n",
       "      <th>3</th>\n",
       "      <td>GS</td>\n",
       "      <td>A3</td>\n",
       "      <td>B1</td>\n",
       "      <td>C1</td>\n",
       "      <td>both</td>\n",
       "    </tr>\n",
       "    <tr>\n",
       "      <th>4</th>\n",
       "      <td>WF</td>\n",
       "      <td>NaN</td>\n",
       "      <td>B3</td>\n",
       "      <td>C3</td>\n",
       "      <td>right_only</td>\n",
       "    </tr>\n",
       "  </tbody>\n",
       "</table>\n",
       "</div>"
      ],
      "text/plain": [
       "        firm varA varB varc      _merge\n",
       "0  Accenture   A1  NaN  NaN   left_only\n",
       "1      Chase  NaN   B2   C2  right_only\n",
       "2       Citi   A2  NaN  NaN   left_only\n",
       "3         GS   A3   B1   C1        both\n",
       "4         WF  NaN   B3   C3  right_only"
      ]
     },
     "execution_count": 13,
     "metadata": {},
     "output_type": "execute_result"
    }
   ],
   "source": [
    "# validate is a built in function\n",
    "# merge wont work unless 1:1\n",
    "\n",
    "left_df.merge(right_df, \n",
    "             how = 'outer',\n",
    "             indicator = True,\n",
    "             validate = '1:1')"
   ]
  },
  {
   "cell_type": "code",
   "execution_count": 14,
   "id": "6db1a521-53fc-4088-a690-25ae1dca524e",
   "metadata": {},
   "outputs": [],
   "source": [
    "a_bad_name = left_df.merge(right_df, \n",
    "             how = 'outer',\n",
    "             indicator = True,\n",
    "                           validate  = 'm:m')"
   ]
  },
  {
   "cell_type": "code",
   "execution_count": 15,
   "id": "e4faff31-c6bb-41ac-b7d7-e12f473b5e67",
   "metadata": {},
   "outputs": [],
   "source": [
    "a_bad_name = left_df.merge(right_df, \n",
    "             how = 'outer',\n",
    "             indicator = True,\n",
    "                           validate  = '1:m')"
   ]
  },
  {
   "cell_type": "markdown",
   "id": "ef719f28-8fee-4121-ad0b-bda48dd0016c",
   "metadata": {},
   "source": [
    "## Validate didnt stop any of these, WHY?\n",
    "\n",
    "1 is a subset of many, so its all the same\n",
    "\n",
    "All merges satisfy m:m\n",
    "\n",
    "Never use m:m"
   ]
  },
  {
   "cell_type": "markdown",
   "id": "c4ad3440-9274-4992-9dc5-39c03c3fccf6",
   "metadata": {},
   "source": [
    "Now, let's add two more NBA themed datasets to the party: "
   ]
  },
  {
   "cell_type": "markdown",
   "id": "ae768bc0-818f-466d-bf2c-45095ddade0e",
   "metadata": {},
   "source": [
    "## Part 2\n",
    "\n",
    "- Q5: [Guess what category of join](https://ledatascifi.github.io/ledatascifi-2025/content/03/05b_merging.html#categories-of-joins) each of the following merges are?  \n",
    "    1. `left_df` and `right_df` (you already know from Q4)\n",
    "    1. `left_df` and `ChosenOne`\n",
    "    1. `CurryForThree` and `left_df`\n",
    "    1. `ChosenOne` and `CurryForThree`"
   ]
  },
  {
   "cell_type": "markdown",
   "id": "dae30e41-b212-4c9e-b9d3-4419a1524dcf",
   "metadata": {},
   "source": [
    "## Q5\n",
    "\n",
    "1. one to one\n",
    "2. one to many\n",
    "3. many to one\n",
    "4. many to many"
   ]
  },
  {
   "cell_type": "markdown",
   "id": "1da1aab4-aa7d-4e66-9efa-795002e46021",
   "metadata": {},
   "source": [
    "- Q6: Do each of those four merge with `how='inner'` as an option. What is the length of each resulting dataframe?"
   ]
  },
  {
   "cell_type": "code",
   "execution_count": 23,
   "id": "b96debd7-616b-4d53-a71f-41071254fe21",
   "metadata": {},
   "outputs": [
    {
     "data": {
      "text/html": [
       "<div>\n",
       "<style scoped>\n",
       "    .dataframe tbody tr th:only-of-type {\n",
       "        vertical-align: middle;\n",
       "    }\n",
       "\n",
       "    .dataframe tbody tr th {\n",
       "        vertical-align: top;\n",
       "    }\n",
       "\n",
       "    .dataframe thead th {\n",
       "        text-align: right;\n",
       "    }\n",
       "</style>\n",
       "<table border=\"1\" class=\"dataframe\">\n",
       "  <thead>\n",
       "    <tr style=\"text-align: right;\">\n",
       "      <th></th>\n",
       "      <th>firm</th>\n",
       "      <th>varA</th>\n",
       "      <th>varB</th>\n",
       "      <th>varc</th>\n",
       "      <th>_merge</th>\n",
       "    </tr>\n",
       "  </thead>\n",
       "  <tbody>\n",
       "    <tr>\n",
       "      <th>0</th>\n",
       "      <td>GS</td>\n",
       "      <td>A3</td>\n",
       "      <td>B1</td>\n",
       "      <td>C1</td>\n",
       "      <td>both</td>\n",
       "    </tr>\n",
       "  </tbody>\n",
       "</table>\n",
       "</div>"
      ],
      "text/plain": [
       "  firm varA varB varc _merge\n",
       "0   GS   A3   B1   C1   both"
      ]
     },
     "execution_count": 23,
     "metadata": {},
     "output_type": "execute_result"
    }
   ],
   "source": [
    "left_df.merge(right_df,\n",
    "              how = 'inner',\n",
    "              on = 'firm',\n",
    "              indicator = True,\n",
    "              validate = '1:1')"
   ]
  },
  {
   "cell_type": "code",
   "execution_count": 21,
   "id": "528a5b66-8213-48d8-a11f-c6aecbc5dca8",
   "metadata": {},
   "outputs": [
    {
     "data": {
      "text/html": [
       "<div>\n",
       "<style scoped>\n",
       "    .dataframe tbody tr th:only-of-type {\n",
       "        vertical-align: middle;\n",
       "    }\n",
       "\n",
       "    .dataframe tbody tr th {\n",
       "        vertical-align: top;\n",
       "    }\n",
       "\n",
       "    .dataframe thead th {\n",
       "        text-align: right;\n",
       "    }\n",
       "</style>\n",
       "<table border=\"1\" class=\"dataframe\">\n",
       "  <thead>\n",
       "    <tr style=\"text-align: right;\">\n",
       "      <th></th>\n",
       "      <th>varD</th>\n",
       "      <th>varE</th>\n",
       "      <th>tic</th>\n",
       "      <th>varB</th>\n",
       "      <th>varc</th>\n",
       "      <th>_merge</th>\n",
       "    </tr>\n",
       "  </thead>\n",
       "  <tbody>\n",
       "    <tr>\n",
       "      <th>0</th>\n",
       "      <td>D1</td>\n",
       "      <td>E1</td>\n",
       "      <td>GS</td>\n",
       "      <td>B1</td>\n",
       "      <td>C1</td>\n",
       "      <td>both</td>\n",
       "    </tr>\n",
       "    <tr>\n",
       "      <th>1</th>\n",
       "      <td>D1</td>\n",
       "      <td>E1</td>\n",
       "      <td>GS</td>\n",
       "      <td>B2</td>\n",
       "      <td>C2</td>\n",
       "      <td>both</td>\n",
       "    </tr>\n",
       "    <tr>\n",
       "      <th>2</th>\n",
       "      <td>D1</td>\n",
       "      <td>E1</td>\n",
       "      <td>GS</td>\n",
       "      <td>B3</td>\n",
       "      <td>C3</td>\n",
       "      <td>both</td>\n",
       "    </tr>\n",
       "    <tr>\n",
       "      <th>3</th>\n",
       "      <td>D2</td>\n",
       "      <td>E2</td>\n",
       "      <td>GS</td>\n",
       "      <td>B1</td>\n",
       "      <td>C1</td>\n",
       "      <td>both</td>\n",
       "    </tr>\n",
       "    <tr>\n",
       "      <th>4</th>\n",
       "      <td>D2</td>\n",
       "      <td>E2</td>\n",
       "      <td>GS</td>\n",
       "      <td>B2</td>\n",
       "      <td>C2</td>\n",
       "      <td>both</td>\n",
       "    </tr>\n",
       "    <tr>\n",
       "      <th>5</th>\n",
       "      <td>D2</td>\n",
       "      <td>E2</td>\n",
       "      <td>GS</td>\n",
       "      <td>B3</td>\n",
       "      <td>C3</td>\n",
       "      <td>both</td>\n",
       "    </tr>\n",
       "    <tr>\n",
       "      <th>6</th>\n",
       "      <td>D3</td>\n",
       "      <td>E3</td>\n",
       "      <td>GS</td>\n",
       "      <td>B1</td>\n",
       "      <td>C1</td>\n",
       "      <td>both</td>\n",
       "    </tr>\n",
       "    <tr>\n",
       "      <th>7</th>\n",
       "      <td>D3</td>\n",
       "      <td>E3</td>\n",
       "      <td>GS</td>\n",
       "      <td>B2</td>\n",
       "      <td>C2</td>\n",
       "      <td>both</td>\n",
       "    </tr>\n",
       "    <tr>\n",
       "      <th>8</th>\n",
       "      <td>D3</td>\n",
       "      <td>E3</td>\n",
       "      <td>GS</td>\n",
       "      <td>B3</td>\n",
       "      <td>C3</td>\n",
       "      <td>both</td>\n",
       "    </tr>\n",
       "  </tbody>\n",
       "</table>\n",
       "</div>"
      ],
      "text/plain": [
       "  varD varE tic varB varc _merge\n",
       "0   D1   E1  GS   B1   C1   both\n",
       "1   D1   E1  GS   B2   C2   both\n",
       "2   D1   E1  GS   B3   C3   both\n",
       "3   D2   E2  GS   B1   C1   both\n",
       "4   D2   E2  GS   B2   C2   both\n",
       "5   D2   E2  GS   B3   C3   both\n",
       "6   D3   E3  GS   B1   C1   both\n",
       "7   D3   E3  GS   B2   C2   both\n",
       "8   D3   E3  GS   B3   C3   both"
      ]
     },
     "execution_count": 21,
     "metadata": {},
     "output_type": "execute_result"
    }
   ],
   "source": [
    "CurryForThree.merge(ChosenOne,\n",
    "              how = 'inner',\n",
    "              left_on = 'var1', right_on = 'tic',\n",
    "              indicator = True,\n",
    "              validate = 'm:m')"
   ]
  },
  {
   "cell_type": "markdown",
   "id": "119e2d9d-044c-4e09-a4e8-07925733606b",
   "metadata": {},
   "source": [
    "- Q7: Do an outer merge of `left_df` and `ChosenOne`. How many observations are in the resulting data, and why is it different than we foudn in Q6?"
   ]
  },
  {
   "cell_type": "code",
   "execution_count": null,
   "id": "1629343f-c5e8-4414-8b96-c176c07e5e17",
   "metadata": {},
   "outputs": [],
   "source": []
  },
  {
   "cell_type": "markdown",
   "id": "6d751616-4230-4190-b5c0-1eb990d4dd2b",
   "metadata": {},
   "source": [
    "- Q8: Merge these next two datasets with `how='inner'` as an option. What s the length of the resulting dataframe and do you think it's right?"
   ]
  },
  {
   "cell_type": "code",
   "execution_count": 31,
   "id": "770fb7f1-f309-4ddd-8231-b0f91ded121a",
   "metadata": {},
   "outputs": [
    {
     "data": {
      "text/html": [
       "<div>\n",
       "<style scoped>\n",
       "    .dataframe tbody tr th:only-of-type {\n",
       "        vertical-align: middle;\n",
       "    }\n",
       "\n",
       "    .dataframe tbody tr th {\n",
       "        vertical-align: top;\n",
       "    }\n",
       "\n",
       "    .dataframe thead th {\n",
       "        text-align: right;\n",
       "    }\n",
       "</style>\n",
       "<table border=\"1\" class=\"dataframe\">\n",
       "  <thead>\n",
       "    <tr style=\"text-align: right;\">\n",
       "      <th></th>\n",
       "      <th>tic</th>\n",
       "      <th>varB</th>\n",
       "      <th>varc</th>\n",
       "    </tr>\n",
       "  </thead>\n",
       "  <tbody>\n",
       "    <tr>\n",
       "      <th>0</th>\n",
       "      <td>TSLA</td>\n",
       "      <td>2016</td>\n",
       "      <td>C1</td>\n",
       "    </tr>\n",
       "    <tr>\n",
       "      <th>1</th>\n",
       "      <td>TSLA</td>\n",
       "      <td>2017</td>\n",
       "      <td>C2</td>\n",
       "    </tr>\n",
       "    <tr>\n",
       "      <th>2</th>\n",
       "      <td>GM</td>\n",
       "      <td>2018</td>\n",
       "      <td>C3</td>\n",
       "    </tr>\n",
       "  </tbody>\n",
       "</table>\n",
       "</div>"
      ],
      "text/plain": [
       "    tic  varB varc\n",
       "0  TSLA  2016   C1\n",
       "1  TSLA  2017   C2\n",
       "2    GM  2018   C3"
      ]
     },
     "metadata": {},
     "output_type": "display_data"
    },
    {
     "data": {
      "text/html": [
       "<div>\n",
       "<style scoped>\n",
       "    .dataframe tbody tr th:only-of-type {\n",
       "        vertical-align: middle;\n",
       "    }\n",
       "\n",
       "    .dataframe tbody tr th {\n",
       "        vertical-align: top;\n",
       "    }\n",
       "\n",
       "    .dataframe thead th {\n",
       "        text-align: right;\n",
       "    }\n",
       "</style>\n",
       "<table border=\"1\" class=\"dataframe\">\n",
       "  <thead>\n",
       "    <tr style=\"text-align: right;\">\n",
       "      <th></th>\n",
       "      <th>varD</th>\n",
       "      <th>varE</th>\n",
       "    </tr>\n",
       "    <tr>\n",
       "      <th>var1</th>\n",
       "      <th></th>\n",
       "      <th></th>\n",
       "    </tr>\n",
       "  </thead>\n",
       "  <tbody>\n",
       "    <tr>\n",
       "      <th>F</th>\n",
       "      <td>2016</td>\n",
       "      <td>E1</td>\n",
       "    </tr>\n",
       "    <tr>\n",
       "      <th>TSLA</th>\n",
       "      <td>2017</td>\n",
       "      <td>E2</td>\n",
       "    </tr>\n",
       "    <tr>\n",
       "      <th>TSLA</th>\n",
       "      <td>2018</td>\n",
       "      <td>E3</td>\n",
       "    </tr>\n",
       "  </tbody>\n",
       "</table>\n",
       "</div>"
      ],
      "text/plain": [
       "      varD varE\n",
       "var1           \n",
       "F     2016   E1\n",
       "TSLA  2017   E2\n",
       "TSLA  2018   E3"
      ]
     },
     "metadata": {},
     "output_type": "display_data"
    }
   ],
   "source": [
    "poppop = pd.DataFrame({\n",
    "                    'tic': ['TSLA','TSLA','GM'],\n",
    "                    'varB': ['2016', '2017', '2018'],\n",
    "                    'varc': ['C1', 'C2', 'C3']})    \n",
    "\n",
    "CurryForThree = pd.DataFrame({\n",
    "                    'var1': ['F','TSLA','TSLA'],\n",
    "                    'varD': ['2016', '2017', '2018'],\n",
    "                    'varE': ['E1', 'E2', 'E3']}).set_index('var1')\n",
    "display(poppop)\n",
    "display(CurryForThree)"
   ]
  },
  {
   "cell_type": "code",
   "execution_count": 27,
   "id": "a4be8cf6-e2d7-46ba-9f76-4787258f0fd2",
   "metadata": {},
   "outputs": [
    {
     "data": {
      "text/html": [
       "<div>\n",
       "<style scoped>\n",
       "    .dataframe tbody tr th:only-of-type {\n",
       "        vertical-align: middle;\n",
       "    }\n",
       "\n",
       "    .dataframe tbody tr th {\n",
       "        vertical-align: top;\n",
       "    }\n",
       "\n",
       "    .dataframe thead th {\n",
       "        text-align: right;\n",
       "    }\n",
       "</style>\n",
       "<table border=\"1\" class=\"dataframe\">\n",
       "  <thead>\n",
       "    <tr style=\"text-align: right;\">\n",
       "      <th></th>\n",
       "      <th>tic</th>\n",
       "      <th>varB</th>\n",
       "      <th>varc</th>\n",
       "      <th>varD</th>\n",
       "      <th>varE</th>\n",
       "      <th>_merge</th>\n",
       "    </tr>\n",
       "  </thead>\n",
       "  <tbody>\n",
       "    <tr>\n",
       "      <th>0</th>\n",
       "      <td>TSLA</td>\n",
       "      <td>2016</td>\n",
       "      <td>C1</td>\n",
       "      <td>2017</td>\n",
       "      <td>E2</td>\n",
       "      <td>both</td>\n",
       "    </tr>\n",
       "    <tr>\n",
       "      <th>1</th>\n",
       "      <td>TSLA</td>\n",
       "      <td>2016</td>\n",
       "      <td>C1</td>\n",
       "      <td>2018</td>\n",
       "      <td>E3</td>\n",
       "      <td>both</td>\n",
       "    </tr>\n",
       "    <tr>\n",
       "      <th>2</th>\n",
       "      <td>TSLA</td>\n",
       "      <td>2017</td>\n",
       "      <td>C2</td>\n",
       "      <td>2017</td>\n",
       "      <td>E2</td>\n",
       "      <td>both</td>\n",
       "    </tr>\n",
       "    <tr>\n",
       "      <th>3</th>\n",
       "      <td>TSLA</td>\n",
       "      <td>2017</td>\n",
       "      <td>C2</td>\n",
       "      <td>2018</td>\n",
       "      <td>E3</td>\n",
       "      <td>both</td>\n",
       "    </tr>\n",
       "  </tbody>\n",
       "</table>\n",
       "</div>"
      ],
      "text/plain": [
       "    tic  varB varc  varD varE _merge\n",
       "0  TSLA  2016   C1  2017   E2   both\n",
       "1  TSLA  2016   C1  2018   E3   both\n",
       "2  TSLA  2017   C2  2017   E2   both\n",
       "3  TSLA  2017   C2  2018   E3   both"
      ]
     },
     "execution_count": 27,
     "metadata": {},
     "output_type": "execute_result"
    }
   ],
   "source": [
    "poppop.merge(CurryForThree,\n",
    "            how = 'inner',\n",
    "            left_on = 'tic', right_on = 'var1',\n",
    "            indicator = True,\n",
    "            validate = 'm:m')"
   ]
  },
  {
   "cell_type": "code",
   "execution_count": 28,
   "id": "10bbe7cb-752e-4e78-b71b-ed287b295e17",
   "metadata": {},
   "outputs": [
    {
     "data": {
      "text/html": [
       "<div>\n",
       "<style scoped>\n",
       "    .dataframe tbody tr th:only-of-type {\n",
       "        vertical-align: middle;\n",
       "    }\n",
       "\n",
       "    .dataframe tbody tr th {\n",
       "        vertical-align: top;\n",
       "    }\n",
       "\n",
       "    .dataframe thead th {\n",
       "        text-align: right;\n",
       "    }\n",
       "</style>\n",
       "<table border=\"1\" class=\"dataframe\">\n",
       "  <thead>\n",
       "    <tr style=\"text-align: right;\">\n",
       "      <th></th>\n",
       "      <th>tic</th>\n",
       "      <th>varB</th>\n",
       "      <th>varc</th>\n",
       "      <th>varD</th>\n",
       "      <th>varE</th>\n",
       "      <th>_merge</th>\n",
       "    </tr>\n",
       "  </thead>\n",
       "  <tbody>\n",
       "    <tr>\n",
       "      <th>0</th>\n",
       "      <td>TSLA</td>\n",
       "      <td>2017</td>\n",
       "      <td>C2</td>\n",
       "      <td>2017</td>\n",
       "      <td>E2</td>\n",
       "      <td>both</td>\n",
       "    </tr>\n",
       "  </tbody>\n",
       "</table>\n",
       "</div>"
      ],
      "text/plain": [
       "    tic  varB varc  varD varE _merge\n",
       "0  TSLA  2017   C2  2017   E2   both"
      ]
     },
     "execution_count": 28,
     "metadata": {},
     "output_type": "execute_result"
    }
   ],
   "source": [
    "poppop.merge(CurryForThree,\n",
    "            how = 'inner',\n",
    "            left_on = ['tic','varB'], right_on = ['var1','varD'],\n",
    "            indicator = True,\n",
    "            validate = '1:1')"
   ]
  },
  {
   "cell_type": "markdown",
   "id": "f2465bb9-331f-4ee7-80a5-c400a91c1b05",
   "metadata": {},
   "source": [
    "## Part 3 - Collecting tips\n",
    "\n",
    "You should, after class, collect tips about\n",
    "- The most common use of merging and safeguards you can use\n",
    "- When should you create variables - before or after a merge?\n",
    "- Best practices for merging\n",
    "\n"
   ]
  },
  {
   "cell_type": "markdown",
   "id": "304a47e6-e975-4b7f-ba4a-e8e5ace2960c",
   "metadata": {},
   "source": [
    "3.4.1.5"
   ]
  }
 ],
 "metadata": {
  "kernelspec": {
   "display_name": "Python 3 (ipykernel)",
   "language": "python",
   "name": "python3"
  },
  "language_info": {
   "codemirror_mode": {
    "name": "ipython",
    "version": 3
   },
   "file_extension": ".py",
   "mimetype": "text/x-python",
   "name": "python",
   "nbconvert_exporter": "python",
   "pygments_lexer": "ipython3",
   "version": "3.12.7"
  }
 },
 "nbformat": 4,
 "nbformat_minor": 5
}
