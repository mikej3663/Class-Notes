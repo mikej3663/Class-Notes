{
 "cells": [
  {
   "cell_type": "markdown",
   "id": "91afde05-8add-45a7-b10f-d22fe4cd1f85",
   "metadata": {},
   "source": [
    "## Demo Assignment (Q1, Q2, Q3 from the Missing Data Chapter)"
   ]
  },
  {
   "cell_type": "markdown",
   "id": "3ec527ff-8732-41fa-ab8f-bbb167ff4bdc",
   "metadata": {},
   "source": [
    "Q1. Fill all missing values with -1\n",
    "\n",
    "Q2. Fill missing values for variable “B” with -1\n",
    "\n",
    "Q3. Fill all values with the mean for the variable"
   ]
  },
  {
   "cell_type": "code",
   "execution_count": 1,
   "id": "c6b7eaba-a485-4c82-86fd-2908b773091f",
   "metadata": {},
   "outputs": [],
   "source": [
    "# The Data\n",
    "\n",
    "import pandas as pd\n",
    "import numpy as np\n",
    "\n",
    "df = pd.DataFrame({\"A\":[12, 4, 5, None, 1], \n",
    "                   \"B\":[None, 2, 54, 3, None], \n",
    "                   \"C\":[20, 16, None, 3, 8], \n",
    "                   \"D\":[14, 3, None, None, 6]})"
   ]
  },
  {
   "cell_type": "code",
   "execution_count": 2,
   "id": "4b192c9f-a4a8-4861-9d5f-fd2a4a6559dc",
   "metadata": {},
   "outputs": [
    {
     "data": {
      "text/html": [
       "<div>\n",
       "<style scoped>\n",
       "    .dataframe tbody tr th:only-of-type {\n",
       "        vertical-align: middle;\n",
       "    }\n",
       "\n",
       "    .dataframe tbody tr th {\n",
       "        vertical-align: top;\n",
       "    }\n",
       "\n",
       "    .dataframe thead th {\n",
       "        text-align: right;\n",
       "    }\n",
       "</style>\n",
       "<table border=\"1\" class=\"dataframe\">\n",
       "  <thead>\n",
       "    <tr style=\"text-align: right;\">\n",
       "      <th></th>\n",
       "      <th>A</th>\n",
       "      <th>B</th>\n",
       "      <th>C</th>\n",
       "      <th>D</th>\n",
       "    </tr>\n",
       "  </thead>\n",
       "  <tbody>\n",
       "    <tr>\n",
       "      <th>0</th>\n",
       "      <td>12.0</td>\n",
       "      <td>-1.0</td>\n",
       "      <td>20.0</td>\n",
       "      <td>14.0</td>\n",
       "    </tr>\n",
       "    <tr>\n",
       "      <th>1</th>\n",
       "      <td>4.0</td>\n",
       "      <td>2.0</td>\n",
       "      <td>16.0</td>\n",
       "      <td>3.0</td>\n",
       "    </tr>\n",
       "    <tr>\n",
       "      <th>2</th>\n",
       "      <td>5.0</td>\n",
       "      <td>54.0</td>\n",
       "      <td>-1.0</td>\n",
       "      <td>-1.0</td>\n",
       "    </tr>\n",
       "    <tr>\n",
       "      <th>3</th>\n",
       "      <td>-1.0</td>\n",
       "      <td>3.0</td>\n",
       "      <td>3.0</td>\n",
       "      <td>-1.0</td>\n",
       "    </tr>\n",
       "    <tr>\n",
       "      <th>4</th>\n",
       "      <td>1.0</td>\n",
       "      <td>-1.0</td>\n",
       "      <td>8.0</td>\n",
       "      <td>6.0</td>\n",
       "    </tr>\n",
       "  </tbody>\n",
       "</table>\n",
       "</div>"
      ],
      "text/plain": [
       "      A     B     C     D\n",
       "0  12.0  -1.0  20.0  14.0\n",
       "1   4.0   2.0  16.0   3.0\n",
       "2   5.0  54.0  -1.0  -1.0\n",
       "3  -1.0   3.0   3.0  -1.0\n",
       "4   1.0  -1.0   8.0   6.0"
      ]
     },
     "metadata": {},
     "output_type": "display_data"
    }
   ],
   "source": [
    "# Q1\n",
    "\n",
    "df_q1 = df.copy()\n",
    "df_q1.fillna(-1, inplace=True)\n",
    "\n",
    "display(df_q1)\n",
    "\n",
    "# fillna replaces the \"None\" with the input (-1)\n",
    "# inplace = False modifies a new data frame rather than using the old one"
   ]
  },
  {
   "cell_type": "code",
   "execution_count": 3,
   "id": "5ea55669-ff84-4314-8bde-e1a0250b406e",
   "metadata": {},
   "outputs": [
    {
     "name": "stdout",
     "output_type": "stream",
     "text": [
      "      A     B     C     D\n",
      "0  12.0  -1.0  20.0  14.0\n",
      "1   4.0   2.0  16.0   3.0\n",
      "2   5.0  54.0   NaN   NaN\n",
      "3   NaN   3.0   3.0   NaN\n",
      "4   1.0  -1.0   8.0   6.0\n"
     ]
    },
    {
     "name": "stderr",
     "output_type": "stream",
     "text": [
      "/var/folders/0w/sth8nzm513v609lmyg7vsnfc0000gn/T/ipykernel_10273/770211614.py:4: FutureWarning: A value is trying to be set on a copy of a DataFrame or Series through chained assignment using an inplace method.\n",
      "The behavior will change in pandas 3.0. This inplace method will never work because the intermediate object on which we are setting values always behaves as a copy.\n",
      "\n",
      "For example, when doing 'df[col].method(value, inplace=True)', try using 'df.method({col: value}, inplace=True)' or df[col] = df[col].method(value) instead, to perform the operation inplace on the original object.\n",
      "\n",
      "\n",
      "  df_q2['B'].fillna(-1, inplace=True)\n"
     ]
    }
   ],
   "source": [
    "# Q2\n",
    "\n",
    "df_q2 = df.copy()\n",
    "df_q2['B'].fillna(-1, inplace=True)\n",
    "\n",
    "print(df_q2)"
   ]
  },
  {
   "cell_type": "code",
   "execution_count": 4,
   "id": "dd2d4937-3351-4cba-9d57-ac697c3fca80",
   "metadata": {},
   "outputs": [
    {
     "data": {
      "text/html": [
       "<div>\n",
       "<style scoped>\n",
       "    .dataframe tbody tr th:only-of-type {\n",
       "        vertical-align: middle;\n",
       "    }\n",
       "\n",
       "    .dataframe tbody tr th {\n",
       "        vertical-align: top;\n",
       "    }\n",
       "\n",
       "    .dataframe thead th {\n",
       "        text-align: right;\n",
       "    }\n",
       "</style>\n",
       "<table border=\"1\" class=\"dataframe\">\n",
       "  <thead>\n",
       "    <tr style=\"text-align: right;\">\n",
       "      <th></th>\n",
       "      <th>A</th>\n",
       "      <th>B</th>\n",
       "      <th>C</th>\n",
       "      <th>D</th>\n",
       "    </tr>\n",
       "  </thead>\n",
       "  <tbody>\n",
       "    <tr>\n",
       "      <th>0</th>\n",
       "      <td>12.0</td>\n",
       "      <td>19.666667</td>\n",
       "      <td>20.00</td>\n",
       "      <td>14.000000</td>\n",
       "    </tr>\n",
       "    <tr>\n",
       "      <th>1</th>\n",
       "      <td>4.0</td>\n",
       "      <td>2.000000</td>\n",
       "      <td>16.00</td>\n",
       "      <td>3.000000</td>\n",
       "    </tr>\n",
       "    <tr>\n",
       "      <th>2</th>\n",
       "      <td>5.0</td>\n",
       "      <td>54.000000</td>\n",
       "      <td>11.75</td>\n",
       "      <td>7.666667</td>\n",
       "    </tr>\n",
       "    <tr>\n",
       "      <th>3</th>\n",
       "      <td>5.5</td>\n",
       "      <td>3.000000</td>\n",
       "      <td>3.00</td>\n",
       "      <td>7.666667</td>\n",
       "    </tr>\n",
       "    <tr>\n",
       "      <th>4</th>\n",
       "      <td>1.0</td>\n",
       "      <td>19.666667</td>\n",
       "      <td>8.00</td>\n",
       "      <td>6.000000</td>\n",
       "    </tr>\n",
       "  </tbody>\n",
       "</table>\n",
       "</div>"
      ],
      "text/plain": [
       "      A          B      C          D\n",
       "0  12.0  19.666667  20.00  14.000000\n",
       "1   4.0   2.000000  16.00   3.000000\n",
       "2   5.0  54.000000  11.75   7.666667\n",
       "3   5.5   3.000000   3.00   7.666667\n",
       "4   1.0  19.666667   8.00   6.000000"
      ]
     },
     "metadata": {},
     "output_type": "display_data"
    }
   ],
   "source": [
    "# Q3\n",
    "df_q3 = df.copy()\n",
    "\n",
    "df_q3.fillna(df.mean(), inplace = True)\n",
    "display(df_q3)"
   ]
  }
 ],
 "metadata": {
  "kernelspec": {
   "display_name": "Python 3 (ipykernel)",
   "language": "python",
   "name": "python3"
  },
  "language_info": {
   "codemirror_mode": {
    "name": "ipython",
    "version": 3
   },
   "file_extension": ".py",
   "mimetype": "text/x-python",
   "name": "python",
   "nbconvert_exporter": "python",
   "pygments_lexer": "ipython3",
   "version": "3.12.7"
  }
 },
 "nbformat": 4,
 "nbformat_minor": 5
}
